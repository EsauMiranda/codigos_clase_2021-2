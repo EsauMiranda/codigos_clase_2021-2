{
 "metadata": {
  "language_info": {
   "codemirror_mode": {
    "name": "ipython",
    "version": 3
   },
   "file_extension": ".py",
   "mimetype": "text/x-python",
   "name": "python",
   "nbconvert_exporter": "python",
   "pygments_lexer": "ipython3",
   "version": "3.8.3-final"
  },
  "orig_nbformat": 2,
  "kernelspec": {
   "name": "python3",
   "display_name": "Python 3.8.3 64-bit",
   "metadata": {
    "interpreter": {
     "hash": "2db524e06e9f5f4ffedc911c917cb75e12dbc923643829bf417064a77eb14d37"
    }
   }
  }
 },
 "nbformat": 4,
 "nbformat_minor": 2,
 "cells": [
  {
   "source": [
    "# Titulo 1\n",
    "- objeto 1\n",
    "- objeto 2"
   ],
   "cell_type": "markdown",
   "metadata": {}
  },
  {
   "cell_type": "code",
   "execution_count": 1,
   "metadata": {},
   "outputs": [
    {
     "output_type": "stream",
     "name": "stdout",
     "text": [
      "Hola esto es un notebook.\n"
     ]
    }
   ],
   "source": [
    "print(\"Hola esto es un notebook.\")"
   ]
  },
  {
   "cell_type": "code",
   "execution_count": 2,
   "metadata": {},
   "outputs": [
    {
     "output_type": "stream",
     "name": "stdout",
     "text": [
      ".-.-.\nchoc\n"
     ]
    }
   ],
   "source": [
    "lista = [\"chocolate\",\"fresa\",\"vainilla\",\"atun\"]\n",
    "lista  = [\"chocolate\"]\n",
    "\n",
    "for comida in lista:\n",
    "    print(\".-.-.\")\n",
    "    #print(comida)\n",
    "    x = comida\n",
    "    x = x + \" Er\"\n",
    "    x =  x[:4]\n",
    "    print(x)"
   ]
  },
  {
   "cell_type": "code",
   "execution_count": 15,
   "metadata": {},
   "outputs": [],
   "source": [
    "class Persona():\n",
    "    \n",
    "    def __init__(self,name2,age2):\n",
    "        if isinstance(name2, str):\n",
    "            aux = \"x\"\n",
    "            self.name = name2\n",
    "            self.age = age2\n",
    "            self.mi_lista = [1,2,3,4,5]\n",
    "        else:\n",
    "            print(\"Nombre no valido\")\n",
    "\n",
    "    def saludo(self):\n",
    "        print(\"Hola\", self.name)\n",
    "\n",
    "    def presentacion(self):\n",
    "        print(\"Hola yo soy\",self.name,\"Y tengo\",self.age,\"años\")\n",
    "\n",
    "    def getName(self):\n",
    "        return self.name\n",
    "    \n",
    "    def getAge(self):\n",
    "        return self.age\n",
    "\n",
    "    def setAge(self,nuevaEdad):\n",
    "        if isinstance(nuevaEdad, int):\n",
    "            self.age = nuevaEdad\n",
    "            return \"Se cambio la edad a \" + str(nuevaEdad)\n",
    "        return \"Edad no valida, Debe ser un entero\" \n",
    "\n",
    "    def mi_suma(self,numero):\n",
    "        for elem in range(0,len(self.mi_lista)):\n",
    "            print(elem)\n",
    "            self.mi_lista[elem] = self.mi_lista[elem] + numero\n",
    "        return self.mi_lista \n",
    "\n"
   ]
  },
  {
   "cell_type": "code",
   "execution_count": 16,
   "metadata": {},
   "outputs": [
    {
     "output_type": "stream",
     "name": "stdout",
     "text": [
      "0\n1\n2\n3\n4\n"
     ]
    },
    {
     "output_type": "execute_result",
     "data": {
      "text/plain": [
       "[4, 5, 6, 7, 8]"
      ]
     },
     "metadata": {},
     "execution_count": 16
    }
   ],
   "source": [
    "personita = Persona(\"Iron Man\",32)\n",
    "personita.mi_suma(3)"
   ]
  },
  {
   "cell_type": "code",
   "execution_count": 118,
   "metadata": {},
   "outputs": [
    {
     "output_type": "stream",
     "name": "stdout",
     "text": [
      "Iron Man\n32\nEdad no valida, Debe ser un entero\n"
     ]
    }
   ],
   "source": [
    "personita = Persona(\"Iron Man\",32)\r\n",
    "personita2 = Persona(\"Hulk\",40)\r\n",
    "\r\n",
    "print(personita.getName())\r\n",
    "print(personita.getAge())\r\n",
    "\r\n",
    "print(personita.setAge(\"33\"))\r\n",
    "#print(personita.getAge())\r\n"
   ]
  }
 ]
}